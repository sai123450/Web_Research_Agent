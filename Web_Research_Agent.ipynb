{
 "cells": [
  {
   "cell_type": "markdown",
   "id": "c842dd26",
   "metadata": {},
   "source": [
    " ## WebResearchAgent: AI Web Research System"
   ]
  },
  {
   "cell_type": "code",
   "execution_count": null,
   "id": "471772bb",
   "metadata": {},
   "outputs": [],
   "source": [
    "# Web research agent implemmenting process\n",
    "[User Query] \n",
    "   ↓\n",
    "[Query Analyzer] → Identify search goals\n",
    "   ↓\n",
    "[Search Tool] → Get URLs/snippets\n",
    "   ↓\n",
    "[Web Scraper] → Extract data from each link\n",
    "   ↓\n",
    "[Content Analyzer] → Evaluate relevance, filter, summarize\n",
    "   ↓\n",
    "[Aggregator] → Combine, deduplicate, generate response\n",
    "   ↓\n",
    "[Final Answer + References]\n"
   ]
  },
  {
   "cell_type": "code",
   "execution_count": null,
   "id": "9728257d",
   "metadata": {},
   "outputs": [],
   "source": [
    "# This is the project Description and purpose\n",
    "Project: Web Research Agent\n",
    "Description:\n",
    "This is an AI-powered research assistant that:\n",
    "1. Understands a user's query\n",
    "2. Searches the web (mocked)\n",
    "3. Scrapes page content (mocked)\n",
    "4. Summarizes each page\n",
    "5. Explains why it's relevant to the user"
   ]
  },
  {
   "cell_type": "code",
   "execution_count": null,
   "id": "3b15dd88",
   "metadata": {},
   "outputs": [],
   "source": [
    "# Using skills covered Webresearch agent using skill sets.\n",
    "Skills Covered:\n",
    "- Natural Language Understanding\n",
    "- Web Search + Content Extraction\n",
    "- Summarization & Explainability\n",
    "- Modular AI Agent Architecture"
   ]
  },
  {
   "cell_type": "code",
   "execution_count": 1,
   "id": "6a1ece5b",
   "metadata": {},
   "outputs": [],
   "source": [
    "# Here this is library packages imported\n",
    "import requests                    # Used for real HTTP requests (not needed here due to mocking)\n",
    "from bs4 import BeautifulSoup      # For HTML parsing (used in real scrapers)\n",
    "import openai                      # Optional: For GPT summarization (mocked here)"
   ]
  },
  {
   "cell_type": "code",
   "execution_count": 20,
   "id": "d6fdfaca",
   "metadata": {},
   "outputs": [],
   "source": [
    "# Simulated web search taking url links\n",
    "def mock_web_search(query):\n",
    "    return [\n",
    "        \"https://www.hindustantimes.com/india-news/pahalgam-attack-live-updates-jammu-and-kashmir-terrorists-operation-death-injury-latest-news-today-amit-shah-101745327477992.html\",\n",
    "        \"https://www.espncricinfo.com/series/ipl-2025-1449924\",\n",
    "        \"https://timesofindia.indiatimes.com/education/news/ai-in-2025-5-emerging-tools-that-will-shape-the-future-of-productivity/articleshow/116718039.cms\"\n",
    "    ]"
   ]
  },
  {
   "cell_type": "code",
   "execution_count": 28,
   "id": "04ff5853",
   "metadata": {},
   "outputs": [
    {
     "name": "stdout",
     "output_type": "stream",
     "text": [
      "['https://www.hindustantimes.com/india-news/pahalgam-attack-live-updates-jammu-and-kashmir-terrorists-operation-death-injury-latest-news-today-amit-shah-101745327477992.html', 'https://www.espncricinfo.com/series/ipl-2025-1449924', 'https://timesofindia.indiatimes.com/education/news/ai-in-2025-5-emerging-tools-that-will-shape-the-future-of-productivity/articleshow/116718039.cms']\n"
     ]
    }
   ],
   "source": [
    "print(mock_web_search(\"Show me deep convos about AI ethics with humor\"))"
   ]
  },
  {
   "cell_type": "code",
   "execution_count": 29,
   "id": "15363f29",
   "metadata": {},
   "outputs": [],
   "source": [
    "# Simulated web scraper\n",
    "def scrape_page(url):\n",
    "    \"\"\"\n",
    "    Mocks content extraction from a web page.\n",
    "    Replace with requests.get() and BeautifulSoup for real scraping.\n",
    "    \"\"\"\n",
    "    fake_content = {\n",
    "        \"https://www.hindustantimes.com/india-news/pahalgam-attack-live-updates-jammu-and-kashmir-terrorists-operation-death-injury-latest-news-today-amit-shah-101745327477992.html\":\n",
    "            \"This article provides live updates and a summary of the attack, including the number of casualties and initial reports...\",\n",
    "        \"https://www.espncricinfo.com/series/ipl-2025-1449924\":\n",
    "            \"Provides fast and detailed live updates for cricket matches around the world, including ball-by-ball commentary to keep you engaged with the game...\",\n",
    "        \"https://timesofindia.indiatimes.com/education/news/ai-in-2025-5-emerging-tools-that-will-shape-the-future-of-productivity/articleshow/116718039.cms\":\n",
    "            \"Artificial intelligence continues its rapid evolution, withseveral emerging tools poised to significantly shape the future...\"\n",
    "    }\n",
    "    return fake_content.get(url, \"Content not found.\")"
   ]
  },
  {
   "cell_type": "code",
   "execution_count": 30,
   "id": "f3415538",
   "metadata": {},
   "outputs": [],
   "source": [
    "# Checking the query Content Analyzer\n",
    "def analyze_content(content, query):\n",
    "    \"\"\"\n",
    "    Simulates content summarization and generates a reason for relevance.\n",
    "    You can plug in OpenAI or LangChain to do this dynamically.\n",
    "    \"\"\"\n",
    "    summary = content[:120] + \"...\"  # Simple summary (first 120 chars)\n",
    "    keyword = query.split()[0]       # Take first word of query as reference\n",
    "    explanation = f\"This article is relevant because it relates to '{keyword}' in the context of your query.\"\n",
    "    return summary, explanation"
   ]
  },
  {
   "cell_type": "code",
   "execution_count": 31,
   "id": "71707040",
   "metadata": {},
   "outputs": [],
   "source": [
    "# Web Research agent checking the url link querys\n",
    "def web_research_agent(user_query):\n",
    "    \"\"\"\n",
    "    Main controller function for the WebResearchAgent.\n",
    "    Orchestrates the search → scrape → summarize → explain process.\n",
    "    \"\"\"\n",
    "    print(f\"\\n🔍 User Query: '{user_query}'\\n\")\n",
    "    urls = mock_web_search(user_query)    # Step 1: Search (mocked)\n",
    "    results = []\n",
    "\n",
    "    for url in urls:\n",
    "        content = scrape_page(url)                      # Step 2: Scrape content (mocked)\n",
    "        summary, reason = analyze_content(content, user_query)  # Step 3: Analyze content\n",
    "        results.append({\n",
    "            \"url\": url,\n",
    "            \"summary\": summary,\n",
    "            \"why\": reason\n",
    "        })\n",
    "\n",
    "    return results"
   ]
  },
  {
   "cell_type": "code",
   "execution_count": 38,
   "id": "f098e3d1",
   "metadata": {},
   "outputs": [
    {
     "name": "stdout",
     "output_type": "stream",
     "text": [
      "\n",
      "🔍 User Query: 'Show me deep convos about AI with News'\n",
      "\n"
     ]
    }
   ],
   "source": [
    "# Run sample query\n",
    "if __name__ == \"__main__\":\n",
    "    query = \"Show me deep convos about AI with News\"\n",
    "    research_results = web_research_agent(query)"
   ]
  },
  {
   "cell_type": "code",
   "execution_count": 39,
   "id": "f56840c1",
   "metadata": {},
   "outputs": [
    {
     "name": "stdout",
     "output_type": "stream",
     "text": [
      "🔗 URL: https://www.hindustantimes.com/india-news/pahalgam-attack-live-updates-jammu-and-kashmir-terrorists-operation-death-injury-latest-news-today-amit-shah-101745327477992.html\n",
      "📝 Summary: This article provides live updates and a summary of the attack, including the number of casualties and initial reports.....\n",
      "💡 Why Relevant: This article is relevant because it relates to 'Show' in the context of your query.\n",
      "------------------------------------------------------------\n",
      "🔗 URL: https://www.espncricinfo.com/series/ipl-2025-1449924\n",
      "📝 Summary: Provides fast and detailed live updates for cricket matches around the world, including ball-by-ball commentary to keep ...\n",
      "💡 Why Relevant: This article is relevant because it relates to 'Show' in the context of your query.\n",
      "------------------------------------------------------------\n",
      "🔗 URL: https://timesofindia.indiatimes.com/education/news/ai-in-2025-5-emerging-tools-that-will-shape-the-future-of-productivity/articleshow/116718039.cms\n",
      "📝 Summary: Artificial intelligence continues its rapid evolution, withseveral emerging tools poised to significantly shape the futu...\n",
      "💡 Why Relevant: This article is relevant because it relates to 'Show' in the context of your query.\n",
      "------------------------------------------------------------\n"
     ]
    }
   ],
   "source": [
    "# Display Final Output\n",
    "for res in research_results:\n",
    "    print(\"🔗 URL:\", res[\"url\"])\n",
    "    print(\"📝 Summary:\", res[\"summary\"])\n",
    "    print(\"💡 Why Relevant:\", res[\"why\"])\n",
    "    print(\"-\" * 60)"
   ]
  },
  {
   "cell_type": "code",
   "execution_count": null,
   "id": "cb78b281",
   "metadata": {},
   "outputs": [],
   "source": []
  }
 ],
 "metadata": {
  "kernelspec": {
   "display_name": "Python 3 (ipykernel)",
   "language": "python",
   "name": "python3"
  },
  "language_info": {
   "codemirror_mode": {
    "name": "ipython",
    "version": 3
   },
   "file_extension": ".py",
   "mimetype": "text/x-python",
   "name": "python",
   "nbconvert_exporter": "python",
   "pygments_lexer": "ipython3",
   "version": "3.11.5"
  }
 },
 "nbformat": 4,
 "nbformat_minor": 5
}
